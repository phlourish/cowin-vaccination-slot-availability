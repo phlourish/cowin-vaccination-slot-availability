{
 "cells": [
  {
   "cell_type": "code",
   "execution_count": 1,
   "metadata": {},
   "outputs": [],
   "source": [
    "import requests\n",
    "import datetime\n",
    "import json\n",
    "import pandas as pd"
   ]
  },
  {
   "cell_type": "code",
   "execution_count": 3,
   "metadata": {},
   "outputs": [],
   "source": [
    "# 141 \t Central Delhi\n",
    "# 145 \t East Delhi\n",
    "# 140 \t New Delhi\n",
    "# 146 \t North Delhi\n",
    "# 147 \t North East Delhi\n",
    "# 143 \t North West Delhi\n",
    "# 148 \t Shahdara\n",
    "# 149 \t South Delhi\n",
    "# 144 \t South East Delhi\n",
    "# 150 \t South West Delhi\n",
    "# 142 \t West Delhi\n",
    "\n",
    "DIST_IDS = [141, 145, 140, 146, 147, 143, 148, 149, 144, 150, 142  ]\n",
    "\n",
    "# Print available centre description (y/n)?\n",
    "print_flag = 'y'\n",
    "\n",
    "numdays = 20\n",
    "age = 22"
   ]
  },
  {
   "cell_type": "code",
   "execution_count": 4,
   "metadata": {},
   "outputs": [],
   "source": [
    "base = datetime.datetime.today()\n",
    "date_list = [base + datetime.timedelta(days=x) for x in range(numdays)]\n",
    "date_str = [x.strftime(\"%d-%m-%Y\") for x in date_list]"
   ]
  },
  {
   "cell_type": "code",
   "execution_count": 14,
   "metadata": {},
   "outputs": [
    {
     "name": "stdout",
     "output_type": "stream",
     "text": [
      "141\n",
      "Available on: 11-05-2021\n",
      "\t Dr B L Kapur Hospital Site 5\n",
      "\t Not Applicable\n",
      "\t Price:  Paid\n",
      "\t Available Capacity:  1\n",
      "\t Vaccine:  COVISHIELD\n",
      "\n",
      "\n",
      "\n"
     ]
    }
   ],
   "source": [
    "for DIST_ID in DIST_IDS:\n",
    "    for INP_DATE in date_str:\n",
    "        URL = \"https://cdn-api.co-vin.in/api/v2/appointment/sessions/public/calendarByDistrict?district_id={}&date={}\".format(DIST_ID, INP_DATE)\n",
    "        response = requests.get(URL)\n",
    "        if response.ok:\n",
    "            resp_json = response.json()\n",
    "            # print(json.dumps(resp_json, indent = 1))\n",
    "            if resp_json[\"centers\"]:\n",
    "                if(print_flag=='y' or print_flag=='Y'):\n",
    "                    for center in resp_json[\"centers\"]:\n",
    "                        for session in center[\"sessions\"]:\n",
    "                            if session[\"min_age_limit\"] <= age and session[\"available_capacity\"] > 0:\n",
    "                                print(DIST_ID)\n",
    "                                print(\"Available on: {}\".format(INP_DATE))\n",
    "                                print(\"\\t\", center[\"name\"])\n",
    "                                print(\"\\t\", center[\"block_name\"])\n",
    "                                print(\"\\t Price: \", center[\"fee_type\"])\n",
    "                                print(\"\\t Available Capacity: \", session[\"available_capacity\"])\n",
    "                                if(session[\"vaccine\"] != ''):\n",
    "                                    print(\"\\t Vaccine: \", session[\"vaccine\"])\n",
    "                                print(\"\\n\\n\")\n",
    "\n",
    "\n",
    "\n",
    "            else:\n",
    "                print(\"No available slots on {}\".format(INP_DATE))\n",
    "    "
   ]
  },
  {
   "cell_type": "code",
   "execution_count": null,
   "metadata": {},
   "outputs": [],
   "source": []
  }
 ],
 "metadata": {
  "kernelspec": {
   "display_name": "Python 3",
   "language": "python",
   "name": "python3"
  },
  "language_info": {
   "codemirror_mode": {
    "name": "ipython",
    "version": 3
   },
   "file_extension": ".py",
   "mimetype": "text/x-python",
   "name": "python",
   "nbconvert_exporter": "python",
   "pygments_lexer": "ipython3",
   "version": "3.8.3"
  }
 },
 "nbformat": 4,
 "nbformat_minor": 4
}
